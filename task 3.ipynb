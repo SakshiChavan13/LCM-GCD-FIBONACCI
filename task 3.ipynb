{
 "cells": [
  {
   "cell_type": "markdown",
   "id": "69d35c0c",
   "metadata": {},
   "source": [
    "## ASSIGNMENT 3\n",
    "\n",
    "## REGISTRATION ID - SIRSS2111\n",
    "\n",
    "## NAME- SAKSHI SUDHAKAR CHAVAN"
   ]
  },
  {
   "cell_type": "markdown",
   "id": "a96463dd",
   "metadata": {},
   "source": [
    "#### Q1. Write a function to return nth term of Fibonacci sequence."
   ]
  },
  {
   "cell_type": "code",
   "execution_count": 1,
   "id": "b510e3fe",
   "metadata": {},
   "outputs": [
    {
     "name": "stdout",
     "output_type": "stream",
     "text": [
      "Enter a number:34\n",
      "34th term of Fibonacci series is 5702887\n"
     ]
    }
   ],
   "source": [
    "k=int(input(\"Enter a number:\"))\n",
    "def fibo(n):\n",
    "  if n==1:\n",
    "    return 1\n",
    "  elif n==0:\n",
    "    return 0\n",
    "  else:\n",
    "    return fibo(n-1)+fibo(n-2)\n",
    "\n",
    "result=fibo(k)\n",
    "print(\"{0}th term of Fibonacci series is {1}\".format(k,result))"
   ]
  },
  {
   "cell_type": "markdown",
   "id": "15d3fcd1",
   "metadata": {},
   "source": [
    "#### Q2. Write a function to find out GCD of two numbers using EUCLID'S algorithm."
   ]
  },
  {
   "cell_type": "code",
   "execution_count": 2,
   "id": "d3b4a609",
   "metadata": {},
   "outputs": [
    {
     "name": "stdout",
     "output_type": "stream",
     "text": [
      "Enter first number:36\n",
      "Enter second number:28\n",
      "GCD of 36 and 28 is 4\n"
     ]
    }
   ],
   "source": [
    "n1=int(input(\"Enter first number:\"))\n",
    "n2=int(input(\"Enter second number:\"))\n",
    "min1=min(n1,n2)\n",
    "res=1\n",
    "for i in range(2,min1+1):\n",
    "  if ((n1%i==0) and (n2%i==0)):\n",
    "    res=i\n",
    "\n",
    "print(\"GCD of {0} and {1} is {2}\".format(n1,n2,res))"
   ]
  },
  {
   "cell_type": "markdown",
   "id": "6df6a548",
   "metadata": {},
   "source": [
    "#### Q3. Write a function to find LCM of two number in most optimizers way."
   ]
  },
  {
   "cell_type": "code",
   "execution_count": 3,
   "id": "c1f0ad9a",
   "metadata": {},
   "outputs": [
    {
     "name": "stdout",
     "output_type": "stream",
     "text": [
      "Enter first number:36\n",
      "Enter second number:24\n",
      "LCM of 36 and 24 is 72\n"
     ]
    }
   ],
   "source": [
    "n1=int(input(\"Enter first number:\"))\n",
    "n2=int(input(\"Enter second number:\"))\n",
    "j=max(n1,n2)\n",
    "while(True):\n",
    "  if (j%n1==0) and (j%n2==0):\n",
    "    result=j\n",
    "    break\n",
    "  else:\n",
    "    j=j+1\n",
    "\n",
    "print(\"LCM of {0} and {1} is {2}\".format(n1,n2,result))"
   ]
  },
  {
   "cell_type": "code",
   "execution_count": null,
   "id": "d90647d3",
   "metadata": {},
   "outputs": [],
   "source": []
  }
 ],
 "metadata": {
  "kernelspec": {
   "display_name": "Python 3",
   "language": "python",
   "name": "python3"
  },
  "language_info": {
   "codemirror_mode": {
    "name": "ipython",
    "version": 3
   },
   "file_extension": ".py",
   "mimetype": "text/x-python",
   "name": "python",
   "nbconvert_exporter": "python",
   "pygments_lexer": "ipython3",
   "version": "3.8.8"
  }
 },
 "nbformat": 4,
 "nbformat_minor": 5
}
